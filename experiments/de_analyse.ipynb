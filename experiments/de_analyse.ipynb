{
 "cells": [
  {
   "cell_type": "code",
   "execution_count": 2,
   "metadata": {},
   "outputs": [
    {
     "name": "stdout",
     "output_type": "stream",
     "text": [
      "{'mutation_base': ['target', 'best', 'rand'], 'mutation_reference': ['pbest', 'rand', 'nan', 'best'], 'CR': ['0.05', '0.25', '0.75', '1.0', '0.5'], 'F': ['0.25', '0.75', '1.25', '1.75', '0.5'], 'lambda_': ['6', '8', '10', '60', '150', '300'], 'mutation_n_comps': [1, 2], 'use_archive': [False, True], 'crossover': ['exp', 'bin'], 'adaptation_method': ['nan', 'jDE', 'shade'], 'lpsr': [False, True]}\n",
      "[ 5 30]\n",
      "[0 1 2]\n",
      "[1 5 2 3 4]\n"
     ]
    }
   ],
   "source": [
    "import os\n",
    "import pandas as pd\n",
    "import re\n",
    "import numpy as np\n",
    "from tqdm import tqdm\n",
    "from ioh_xplainer import explainer\n",
    "import pandas as pd\n",
    "\n",
    "from ConfigSpace import ConfigurationSpace\n",
    "from ConfigSpace.util import generate_grid\n",
    "from IPython.display import display\n",
    "\n",
    "data_file = \"de_final_processed.pkl\"\n",
    "df = pd.read_pickle(data_file)\n",
    "\n",
    "features= ['mutation_base', 'mutation_reference', 'CR', \"F\", 'lambda_',\n",
    "       'mutation_n_comps', 'use_archive', 'crossover', 'adaptation_method',\n",
    "       'lpsr']\n",
    "\n",
    "config_dict = {}\n",
    "for f in features:\n",
    "    config_dict[f] = list(map(str, df[f].unique()))\n",
    "\n",
    "config_dict['mutation_n_comps'] = [1,2]\n",
    "config_dict['use_archive'] = [False, True]\n",
    "config_dict['lpsr'] = [False, True]\n",
    "\n",
    "print(config_dict)\n",
    "print( df['dim'].unique())\n",
    "print( df['seed'].unique())\n",
    "print( df['iid'].unique())"
   ]
  },
  {
   "cell_type": "code",
   "execution_count": 3,
   "metadata": {},
   "outputs": [
    {
     "name": "stdout",
     "output_type": "stream",
     "text": [
      "Configuration space object:\n",
      "  Hyperparameters:\n",
      "    CR, Type: Categorical, Choices: {0.05, 0.25, 0.75, 1.0, 0.5}, Default: 0.05\n",
      "    F, Type: Categorical, Choices: {0.25, 0.75, 1.25, 1.75, 0.5}, Default: 0.25\n",
      "    adaptation_method, Type: Categorical, Choices: {nan, jDE, shade}, Default: nan\n",
      "    crossover, Type: Categorical, Choices: {exp, bin}, Default: exp\n",
      "    lambda_, Type: Categorical, Choices: {6, 8, 10, 60, 150, 300}, Default: 6\n",
      "    lpsr, Type: Categorical, Choices: {False, True}, Default: False\n",
      "    mutation_base, Type: Categorical, Choices: {target, best, rand}, Default: target\n",
      "    mutation_n_comps, Type: Categorical, Choices: {1, 2}, Default: 1\n",
      "    mutation_reference, Type: Categorical, Choices: {pbest, rand, nan, best}, Default: pbest\n",
      "    use_archive, Type: Categorical, Choices: {False, True}, Default: False\n",
      "\n"
     ]
    },
    {
     "ename": "",
     "evalue": "",
     "output_type": "error",
     "traceback": [
      "\u001b[1;31mCannot execute code, session has been disposed. Please try restarting the Kernel."
     ]
    },
    {
     "ename": "",
     "evalue": "",
     "output_type": "error",
     "traceback": [
      "\u001b[1;31mThe Kernel crashed while executing code in the the current cell or a previous cell. Please review the code in the cell(s) to identify a possible cause of the failure. Click <a href='https://aka.ms/vscodeJupyterKernelCrash'>here</a> for more info. View Jupyter <a href='command:jupyter.viewOutput'>log</a> for further details."
     ]
    }
   ],
   "source": [
    "\n",
    "\n",
    "cs = ConfigurationSpace(config_dict)\n",
    "\n",
    "print(cs)\n",
    "\n",
    "de_explainer = explainer(None, \n",
    "                cs , \n",
    "                algname=\"mod-DE\",\n",
    "                dims = [5,30],#, 10, 20, 40 \n",
    "                fids = np.arange(1,25), #,5\n",
    "                iids = df['iid'].unique(), #20 \n",
    "                reps = len( df['seed'].unique()), \n",
    "                sampling_method = \"grid\",  #or random\n",
    "                grid_steps_dict = {},\n",
    "                sample_size = None,  #only used with random method\n",
    "                budget = 10000, #10000\n",
    "                seed = 1,\n",
    "                verbose = True)\n",
    "\n",
    "\n",
    "de_explainer.load_results(data_file)\n",
    "#for feature in features:\n",
    "#    cmaes_explainer.df[feature] = cmaes_explainer.df[feature].astype(\"category\")\n",
    "df = de_explainer.performance_stats()\n",
    "display(df.style.bar(cmap='viridis'))\n",
    "\n",
    "#cmaes_explainer.plot(partial_dependence=False, best_config=False)\n",
    "#print(de_explainer.stats[5])\n",
    "#df = de_explainer.stats[5]\n",
    "#print(df.to_latex(index=False,\n",
    "#                  float_format=\"{:.2f}\".format,\n",
    "#                  multicolumn_format = \"c\"\n",
    "#))  \n"
   ]
  },
  {
   "cell_type": "code",
   "execution_count": null,
   "metadata": {},
   "outputs": [
    {
     "data": {
      "text/html": [
       "<style type=\"text/css\">\n",
       "#T_9d5e2_row0_col1 {\n",
       "  width: 10em;\n",
       "  background: linear-gradient(90deg, #440154 3.4%, transparent 3.4%);\n",
       "}\n",
       "#T_9d5e2_row0_col3 {\n",
       "  width: 10em;\n",
       "  background: linear-gradient(90deg, transparent 5.0%, #482173 5.0%, #482173 9.0%, transparent 9.0%);\n",
       "}\n",
       "#T_9d5e2_row1_col1 {\n",
       "  width: 10em;\n",
       "  background: linear-gradient(90deg, transparent 3.4%, #46327e 3.4%, #46327e 14.3%, transparent 14.3%);\n",
       "}\n",
       "#T_9d5e2_row1_col3 {\n",
       "  width: 10em;\n",
       "  background: linear-gradient(90deg, transparent 0.7%, #440256 0.7%, #440256 5.0%, transparent 5.0%);\n",
       "}\n",
       "#T_9d5e2_row2_col1, #T_9d5e2_row2_col3, #T_9d5e2_row5_col1, #T_9d5e2_row5_col3, #T_9d5e2_row11_col3 {\n",
       "  width: 10em;\n",
       "}\n",
       "#T_9d5e2_row3_col1, #T_9d5e2_row6_col1 {\n",
       "  width: 10em;\n",
       "  background: linear-gradient(90deg, transparent 3.4%, #46307e 3.4%, #46307e 13.7%, transparent 13.7%);\n",
       "}\n",
       "#T_9d5e2_row3_col3, #T_9d5e2_row6_col3 {\n",
       "  width: 10em;\n",
       "  background: linear-gradient(90deg, #440154 5.0%, transparent 5.0%);\n",
       "}\n",
       "#T_9d5e2_row4_col1 {\n",
       "  width: 10em;\n",
       "  background: linear-gradient(90deg, transparent 3.4%, #27ad81 3.4%, #27ad81 62.2%, transparent 62.2%);\n",
       "}\n",
       "#T_9d5e2_row4_col3 {\n",
       "  width: 10em;\n",
       "  background: linear-gradient(90deg, transparent 5.0%, #24878e 5.0%, #24878e 46.1%, transparent 46.1%);\n",
       "}\n",
       "#T_9d5e2_row7_col1 {\n",
       "  width: 10em;\n",
       "  background: linear-gradient(90deg, transparent 3.4%, #26ad81 3.4%, #26ad81 62.1%, transparent 62.1%);\n",
       "}\n",
       "#T_9d5e2_row7_col3 {\n",
       "  width: 10em;\n",
       "  background: linear-gradient(90deg, transparent 5.0%, #26818e 5.0%, #26818e 43.6%, transparent 43.6%);\n",
       "}\n",
       "#T_9d5e2_row8_col1 {\n",
       "  width: 10em;\n",
       "  background: linear-gradient(90deg, transparent 3.4%, #414487 3.4%, #414487 20.0%, transparent 20.0%);\n",
       "}\n",
       "#T_9d5e2_row8_col3 {\n",
       "  width: 10em;\n",
       "  background: linear-gradient(90deg, transparent 5.0%, #3f4788 5.0%, #3f4788 21.1%, transparent 21.1%);\n",
       "}\n",
       "#T_9d5e2_row9_col1 {\n",
       "  width: 10em;\n",
       "  background: linear-gradient(90deg, transparent 3.4%, #365d8d 3.4%, #365d8d 29.3%, transparent 29.3%);\n",
       "}\n",
       "#T_9d5e2_row9_col3 {\n",
       "  width: 10em;\n",
       "  background: linear-gradient(90deg, transparent 5.0%, #355e8d 5.0%, #355e8d 29.5%, transparent 29.5%);\n",
       "}\n",
       "#T_9d5e2_row10_col1, #T_9d5e2_row11_col1 {\n",
       "  width: 10em;\n",
       "  background: linear-gradient(90deg, transparent 3.4%, #fde725 3.4%, #fde725 100.0%, transparent 100.0%);\n",
       "}\n",
       "#T_9d5e2_row10_col3 {\n",
       "  width: 10em;\n",
       "  background: linear-gradient(90deg, transparent 5.0%, #fde725 5.0%, #fde725 100.0%, transparent 100.0%);\n",
       "}\n",
       "</style>\n",
       "<table id=\"T_9d5e2\">\n",
       "  <thead>\n",
       "    <tr>\n",
       "      <th class=\"blank level0\" >&nbsp;</th>\n",
       "      <th id=\"T_9d5e2_level0_col0\" class=\"col_heading level0 col0\" colspan=\"2\">d=5</th>\n",
       "      <th id=\"T_9d5e2_level0_col2\" class=\"col_heading level0 col2\" colspan=\"2\">d=30</th>\n",
       "    </tr>\n",
       "    <tr>\n",
       "      <th class=\"blank level1\" >&nbsp;</th>\n",
       "      <th id=\"T_9d5e2_level1_col0\" class=\"col_heading level1 col0\" >Measure</th>\n",
       "      <th id=\"T_9d5e2_level1_col1\" class=\"col_heading level1 col1\" >value</th>\n",
       "      <th id=\"T_9d5e2_level1_col2\" class=\"col_heading level1 col2\" >Measure</th>\n",
       "      <th id=\"T_9d5e2_level1_col3\" class=\"col_heading level1 col3\" >value</th>\n",
       "    </tr>\n",
       "  </thead>\n",
       "  <tbody>\n",
       "    <tr>\n",
       "      <th id=\"T_9d5e2_level0_row0\" class=\"row_heading level0 row0\" >0</th>\n",
       "      <td id=\"T_9d5e2_row0_col0\" class=\"data row0 col0\" >Algorithm stability</td>\n",
       "      <td id=\"T_9d5e2_row0_col1\" class=\"data row0 col1\" >-0.035519</td>\n",
       "      <td id=\"T_9d5e2_row0_col2\" class=\"data row0 col2\" >Algorithm stability</td>\n",
       "      <td id=\"T_9d5e2_row0_col3\" class=\"data row0 col3\" >0.042568</td>\n",
       "    </tr>\n",
       "    <tr>\n",
       "      <th id=\"T_9d5e2_level0_row1\" class=\"row_heading level0 row1\" >1</th>\n",
       "      <td id=\"T_9d5e2_row1_col0\" class=\"data row1 col0\" >Invar. avg. best</td>\n",
       "      <td id=\"T_9d5e2_row1_col1\" class=\"data row1 col1\" >0.112767</td>\n",
       "      <td id=\"T_9d5e2_row1_col2\" class=\"data row1 col2\" >Invar. avg. best</td>\n",
       "      <td id=\"T_9d5e2_row1_col3\" class=\"data row1 col3\" >-0.044886</td>\n",
       "    </tr>\n",
       "    <tr>\n",
       "      <th id=\"T_9d5e2_level0_row2\" class=\"row_heading level0 row2\" >2</th>\n",
       "      <td id=\"T_9d5e2_row2_col0\" class=\"data row2 col0\" >S-inv. avg. best</td>\n",
       "      <td id=\"T_9d5e2_row2_col1\" class=\"data row2 col1\" >nan</td>\n",
       "      <td id=\"T_9d5e2_row2_col2\" class=\"data row2 col2\" >S-inv. avg. best</td>\n",
       "      <td id=\"T_9d5e2_row2_col3\" class=\"data row2 col3\" >nan</td>\n",
       "    </tr>\n",
       "    <tr>\n",
       "      <th id=\"T_9d5e2_level0_row3\" class=\"row_heading level0 row3\" >3</th>\n",
       "      <td id=\"T_9d5e2_row3_col0\" class=\"data row3 col0\" >I-inv. avg. best</td>\n",
       "      <td id=\"T_9d5e2_row3_col1\" class=\"data row3 col1\" >0.106752</td>\n",
       "      <td id=\"T_9d5e2_row3_col2\" class=\"data row3 col2\" >I-inv. avg. best</td>\n",
       "      <td id=\"T_9d5e2_row3_col3\" class=\"data row3 col3\" >-0.052248</td>\n",
       "    </tr>\n",
       "    <tr>\n",
       "      <th id=\"T_9d5e2_level0_row4\" class=\"row_heading level0 row4\" >4</th>\n",
       "      <td id=\"T_9d5e2_row4_col0\" class=\"data row4 col0\" >Invar. single best</td>\n",
       "      <td id=\"T_9d5e2_row4_col1\" class=\"data row4 col1\" >0.608261</td>\n",
       "      <td id=\"T_9d5e2_row4_col2\" class=\"data row4 col2\" >Invar. single best</td>\n",
       "      <td id=\"T_9d5e2_row4_col3\" class=\"data row4 col3\" >0.433223</td>\n",
       "    </tr>\n",
       "    <tr>\n",
       "      <th id=\"T_9d5e2_level0_row5\" class=\"row_heading level0 row5\" >5</th>\n",
       "      <td id=\"T_9d5e2_row5_col0\" class=\"data row5 col0\" >S-inv. single best</td>\n",
       "      <td id=\"T_9d5e2_row5_col1\" class=\"data row5 col1\" >nan</td>\n",
       "      <td id=\"T_9d5e2_row5_col2\" class=\"data row5 col2\" >S-inv. single best</td>\n",
       "      <td id=\"T_9d5e2_row5_col3\" class=\"data row5 col3\" >nan</td>\n",
       "    </tr>\n",
       "    <tr>\n",
       "      <th id=\"T_9d5e2_level0_row6\" class=\"row_heading level0 row6\" >6</th>\n",
       "      <td id=\"T_9d5e2_row6_col0\" class=\"data row6 col0\" >I-inv. single best</td>\n",
       "      <td id=\"T_9d5e2_row6_col1\" class=\"data row6 col1\" >0.106752</td>\n",
       "      <td id=\"T_9d5e2_row6_col2\" class=\"data row6 col2\" >I-inv. single best</td>\n",
       "      <td id=\"T_9d5e2_row6_col3\" class=\"data row6 col3\" >-0.052248</td>\n",
       "    </tr>\n",
       "    <tr>\n",
       "      <th id=\"T_9d5e2_level0_row7\" class=\"row_heading level0 row7\" >7</th>\n",
       "      <td id=\"T_9d5e2_row7_col0\" class=\"data row7 col0\" >Average norm. perf.</td>\n",
       "      <td id=\"T_9d5e2_row7_col1\" class=\"data row7 col1\" >0.607598</td>\n",
       "      <td id=\"T_9d5e2_row7_col2\" class=\"data row7 col2\" >Average norm. perf.</td>\n",
       "      <td id=\"T_9d5e2_row7_col3\" class=\"data row7 col3\" >0.406018</td>\n",
       "    </tr>\n",
       "    <tr>\n",
       "      <th id=\"T_9d5e2_level0_row8\" class=\"row_heading level0 row8\" >8</th>\n",
       "      <td id=\"T_9d5e2_row8_col0\" class=\"data row8 col0\" >Gain avg. best</td>\n",
       "      <td id=\"T_9d5e2_row8_col1\" class=\"data row8 col1\" >0.171561</td>\n",
       "      <td id=\"T_9d5e2_row8_col2\" class=\"data row8 col2\" >Gain avg. best</td>\n",
       "      <td id=\"T_9d5e2_row8_col3\" class=\"data row8 col3\" >0.169826</td>\n",
       "    </tr>\n",
       "    <tr>\n",
       "      <th id=\"T_9d5e2_level0_row9\" class=\"row_heading level0 row9\" >9</th>\n",
       "      <td id=\"T_9d5e2_row9_col0\" class=\"data row9 col0\" >Gain single best</td>\n",
       "      <td id=\"T_9d5e2_row9_col1\" class=\"data row9 col1\" >0.267700</td>\n",
       "      <td id=\"T_9d5e2_row9_col2\" class=\"data row9 col2\" >Gain single best</td>\n",
       "      <td id=\"T_9d5e2_row9_col3\" class=\"data row9 col3\" >0.258173</td>\n",
       "    </tr>\n",
       "    <tr>\n",
       "      <th id=\"T_9d5e2_level0_row10\" class=\"row_heading level0 row10\" >10</th>\n",
       "      <td id=\"T_9d5e2_row10_col0\" class=\"data row10 col0\" >sig. impr. avg best</td>\n",
       "      <td id=\"T_9d5e2_row10_col1\" class=\"data row10 col1\" >1.000000</td>\n",
       "      <td id=\"T_9d5e2_row10_col2\" class=\"data row10 col2\" >sig. impr. avg best</td>\n",
       "      <td id=\"T_9d5e2_row10_col3\" class=\"data row10 col3\" >1.000000</td>\n",
       "    </tr>\n",
       "    <tr>\n",
       "      <th id=\"T_9d5e2_level0_row11\" class=\"row_heading level0 row11\" >11</th>\n",
       "      <td id=\"T_9d5e2_row11_col0\" class=\"data row11 col0\" >sig. impr. s. best vs avg best</td>\n",
       "      <td id=\"T_9d5e2_row11_col1\" class=\"data row11 col1\" >1.000000</td>\n",
       "      <td id=\"T_9d5e2_row11_col2\" class=\"data row11 col2\" >sig. impr. s. best vs avg best</td>\n",
       "      <td id=\"T_9d5e2_row11_col3\" class=\"data row11 col3\" >0.000000</td>\n",
       "    </tr>\n",
       "  </tbody>\n",
       "</table>\n"
      ],
      "text/plain": [
       "<pandas.io.formats.style.Styler at 0x7fccd10e1df0>"
      ]
     },
     "metadata": {},
     "output_type": "display_data"
    }
   ],
   "source": [
    "from IPython.display import display\n",
    "\n",
    "#df = de_explainer.behaviour_stats()\n",
    "#df.style.bar(cmap='viridis')\n",
    "\n",
    "#do it for f1 and f5\n",
    "\n",
    "df = de_explainer.behaviour_stats(per_fid=False)\n",
    "display(df.style.bar(cmap='viridis'))\n",
    "\n",
    "#df = cmaes_explainer.behaviour_stats(per_fid=True)\n",
    "#display(df.style.bar(cmap='viridis'))\n",
    "\n"
   ]
  },
  {
   "cell_type": "code",
   "execution_count": 5,
   "metadata": {},
   "outputs": [
    {
     "name": "stdout",
     "output_type": "stream",
     "text": [
      "Processing d5 f1..\n",
      "fitted model R2 train: 0.9845545115536987\n"
     ]
    },
    {
     "name": "stderr",
     "output_type": "stream",
     "text": [
      "No data for colormapping provided via 'c'. Parameters 'vmin', 'vmax' will be ignored\n"
     ]
    },
    {
     "name": "stdout",
     "output_type": "stream",
     "text": [
      "Processing d5 f2..\n",
      "fitted model R2 train: 0.9318568128302195\n"
     ]
    },
    {
     "name": "stderr",
     "output_type": "stream",
     "text": [
      "No data for colormapping provided via 'c'. Parameters 'vmin', 'vmax' will be ignored\n",
      "The figure layout has changed to tight\n"
     ]
    },
    {
     "name": "stdout",
     "output_type": "stream",
     "text": [
      "Processing d5 f3..\n",
      "fitted model R2 train: 0.975257186841242\n"
     ]
    },
    {
     "name": "stderr",
     "output_type": "stream",
     "text": [
      "No data for colormapping provided via 'c'. Parameters 'vmin', 'vmax' will be ignored\n",
      "The figure layout has changed to tight\n"
     ]
    },
    {
     "name": "stdout",
     "output_type": "stream",
     "text": [
      "Processing d5 f4..\n",
      "fitted model R2 train: 0.9808111778238723\n"
     ]
    },
    {
     "name": "stderr",
     "output_type": "stream",
     "text": [
      "No data for colormapping provided via 'c'. Parameters 'vmin', 'vmax' will be ignored\n",
      "The figure layout has changed to tight\n"
     ]
    },
    {
     "name": "stdout",
     "output_type": "stream",
     "text": [
      "Processing d5 f5..\n",
      "fitted model R2 train: 0.8953747167521752\n"
     ]
    },
    {
     "name": "stderr",
     "output_type": "stream",
     "text": [
      "No data for colormapping provided via 'c'. Parameters 'vmin', 'vmax' will be ignored\n",
      "The figure layout has changed to tight\n"
     ]
    },
    {
     "name": "stdout",
     "output_type": "stream",
     "text": [
      "Processing d5 f6..\n",
      "fitted model R2 train: 0.9804837791708192\n"
     ]
    },
    {
     "name": "stderr",
     "output_type": "stream",
     "text": [
      "No data for colormapping provided via 'c'. Parameters 'vmin', 'vmax' will be ignored\n",
      "The figure layout has changed to tight\n"
     ]
    },
    {
     "name": "stdout",
     "output_type": "stream",
     "text": [
      "Processing d5 f7..\n",
      "fitted model R2 train: 0.8334620308873044\n"
     ]
    },
    {
     "name": "stderr",
     "output_type": "stream",
     "text": [
      "No data for colormapping provided via 'c'. Parameters 'vmin', 'vmax' will be ignored\n",
      "The figure layout has changed to tight\n"
     ]
    },
    {
     "name": "stdout",
     "output_type": "stream",
     "text": [
      "Processing d5 f8..\n",
      "fitted model R2 train: 0.9759003150779278\n"
     ]
    },
    {
     "name": "stderr",
     "output_type": "stream",
     "text": [
      "No data for colormapping provided via 'c'. Parameters 'vmin', 'vmax' will be ignored\n",
      "The figure layout has changed to tight\n"
     ]
    },
    {
     "name": "stdout",
     "output_type": "stream",
     "text": [
      "Processing d5 f9..\n",
      "fitted model R2 train: 0.9615019261757738\n"
     ]
    },
    {
     "name": "stderr",
     "output_type": "stream",
     "text": [
      "No data for colormapping provided via 'c'. Parameters 'vmin', 'vmax' will be ignored\n",
      "The figure layout has changed to tight\n"
     ]
    },
    {
     "name": "stdout",
     "output_type": "stream",
     "text": [
      "Processing d5 f10..\n",
      "fitted model R2 train: 0.9375219929309195\n"
     ]
    },
    {
     "name": "stderr",
     "output_type": "stream",
     "text": [
      "No data for colormapping provided via 'c'. Parameters 'vmin', 'vmax' will be ignored\n",
      "The figure layout has changed to tight\n"
     ]
    },
    {
     "name": "stdout",
     "output_type": "stream",
     "text": [
      "Processing d5 f11..\n",
      "fitted model R2 train: 0.9797135998563337\n"
     ]
    },
    {
     "name": "stderr",
     "output_type": "stream",
     "text": [
      "No data for colormapping provided via 'c'. Parameters 'vmin', 'vmax' will be ignored\n",
      "The figure layout has changed to tight\n"
     ]
    },
    {
     "name": "stdout",
     "output_type": "stream",
     "text": [
      "Processing d5 f12..\n",
      "fitted model R2 train: 0.9423293079890073\n"
     ]
    },
    {
     "name": "stderr",
     "output_type": "stream",
     "text": [
      "No data for colormapping provided via 'c'. Parameters 'vmin', 'vmax' will be ignored\n",
      "The figure layout has changed to tight\n"
     ]
    },
    {
     "name": "stdout",
     "output_type": "stream",
     "text": [
      "Processing d5 f13..\n",
      "fitted model R2 train: 0.9876617160597185\n"
     ]
    },
    {
     "name": "stderr",
     "output_type": "stream",
     "text": [
      "No data for colormapping provided via 'c'. Parameters 'vmin', 'vmax' will be ignored\n",
      "The figure layout has changed to tight\n"
     ]
    },
    {
     "name": "stdout",
     "output_type": "stream",
     "text": [
      "Processing d5 f14..\n",
      "fitted model R2 train: 0.9996352382382915\n"
     ]
    },
    {
     "name": "stderr",
     "output_type": "stream",
     "text": [
      "No data for colormapping provided via 'c'. Parameters 'vmin', 'vmax' will be ignored\n",
      "The figure layout has changed to tight\n"
     ]
    },
    {
     "name": "stdout",
     "output_type": "stream",
     "text": [
      "Processing d5 f15..\n",
      "fitted model R2 train: 0.9965683726633816\n"
     ]
    },
    {
     "name": "stderr",
     "output_type": "stream",
     "text": [
      "No data for colormapping provided via 'c'. Parameters 'vmin', 'vmax' will be ignored\n",
      "The figure layout has changed to tight\n"
     ]
    },
    {
     "name": "stdout",
     "output_type": "stream",
     "text": [
      "Processing d5 f16..\n",
      "fitted model R2 train: 0.9961493466151747\n"
     ]
    },
    {
     "name": "stderr",
     "output_type": "stream",
     "text": [
      "No data for colormapping provided via 'c'. Parameters 'vmin', 'vmax' will be ignored\n",
      "The figure layout has changed to tight\n"
     ]
    },
    {
     "name": "stdout",
     "output_type": "stream",
     "text": [
      "Processing d5 f17..\n",
      "fitted model R2 train: 0.9994493850566423\n"
     ]
    },
    {
     "name": "stderr",
     "output_type": "stream",
     "text": [
      "No data for colormapping provided via 'c'. Parameters 'vmin', 'vmax' will be ignored\n",
      "The figure layout has changed to tight\n"
     ]
    },
    {
     "name": "stdout",
     "output_type": "stream",
     "text": [
      "Processing d5 f18..\n",
      "fitted model R2 train: 0.9955647485875997\n"
     ]
    },
    {
     "name": "stderr",
     "output_type": "stream",
     "text": [
      "No data for colormapping provided via 'c'. Parameters 'vmin', 'vmax' will be ignored\n",
      "The figure layout has changed to tight\n"
     ]
    },
    {
     "name": "stdout",
     "output_type": "stream",
     "text": [
      "Processing d5 f19..\n",
      "fitted model R2 train: 0.9997942860005998\n"
     ]
    },
    {
     "name": "stderr",
     "output_type": "stream",
     "text": [
      "No data for colormapping provided via 'c'. Parameters 'vmin', 'vmax' will be ignored\n",
      "The figure layout has changed to tight\n"
     ]
    },
    {
     "name": "stdout",
     "output_type": "stream",
     "text": [
      "Processing d5 f20..\n",
      "fitted model R2 train: 0.9785903318446172\n"
     ]
    },
    {
     "name": "stderr",
     "output_type": "stream",
     "text": [
      "No data for colormapping provided via 'c'. Parameters 'vmin', 'vmax' will be ignored\n",
      "The figure layout has changed to tight\n"
     ]
    },
    {
     "name": "stdout",
     "output_type": "stream",
     "text": [
      "Processing d5 f21..\n",
      "fitted model R2 train: 0.9617654754709579\n"
     ]
    },
    {
     "name": "stderr",
     "output_type": "stream",
     "text": [
      "No data for colormapping provided via 'c'. Parameters 'vmin', 'vmax' will be ignored\n",
      "The figure layout has changed to tight\n"
     ]
    },
    {
     "name": "stdout",
     "output_type": "stream",
     "text": [
      "Processing d5 f22..\n",
      "fitted model R2 train: 0.9892501499495651\n"
     ]
    },
    {
     "name": "stderr",
     "output_type": "stream",
     "text": [
      "No data for colormapping provided via 'c'. Parameters 'vmin', 'vmax' will be ignored\n",
      "The figure layout has changed to tight\n"
     ]
    },
    {
     "name": "stdout",
     "output_type": "stream",
     "text": [
      "Processing d5 f23..\n",
      "fitted model R2 train: 0.9999664813331641\n"
     ]
    },
    {
     "name": "stderr",
     "output_type": "stream",
     "text": [
      "No data for colormapping provided via 'c'. Parameters 'vmin', 'vmax' will be ignored\n",
      "The figure layout has changed to tight\n"
     ]
    },
    {
     "name": "stdout",
     "output_type": "stream",
     "text": [
      "Processing d5 f24..\n",
      "fitted model R2 train: 0.9993967056981683\n"
     ]
    },
    {
     "name": "stderr",
     "output_type": "stream",
     "text": [
      "No data for colormapping provided via 'c'. Parameters 'vmin', 'vmax' will be ignored\n",
      "The figure layout has changed to tight\n"
     ]
    },
    {
     "name": "stdout",
     "output_type": "stream",
     "text": [
      "Processing d30 f1..\n",
      "fitted model R2 train: 0.9983305321579763\n"
     ]
    },
    {
     "name": "stderr",
     "output_type": "stream",
     "text": [
      "No data for colormapping provided via 'c'. Parameters 'vmin', 'vmax' will be ignored\n",
      "The figure layout has changed to tight\n"
     ]
    },
    {
     "name": "stdout",
     "output_type": "stream",
     "text": [
      "Processing d30 f2..\n",
      "fitted model R2 train: 0.9750648196826747\n"
     ]
    },
    {
     "name": "stderr",
     "output_type": "stream",
     "text": [
      "No data for colormapping provided via 'c'. Parameters 'vmin', 'vmax' will be ignored\n",
      "The figure layout has changed to tight\n"
     ]
    },
    {
     "name": "stdout",
     "output_type": "stream",
     "text": [
      "Processing d30 f3..\n",
      "fitted model R2 train: 0.9976384614973502\n"
     ]
    },
    {
     "name": "stderr",
     "output_type": "stream",
     "text": [
      "No data for colormapping provided via 'c'. Parameters 'vmin', 'vmax' will be ignored\n",
      "The figure layout has changed to tight\n"
     ]
    },
    {
     "name": "stdout",
     "output_type": "stream",
     "text": [
      "Processing d30 f4..\n",
      "fitted model R2 train: 0.9951835607491708\n"
     ]
    },
    {
     "name": "stderr",
     "output_type": "stream",
     "text": [
      "No data for colormapping provided via 'c'. Parameters 'vmin', 'vmax' will be ignored\n",
      "The figure layout has changed to tight\n"
     ]
    },
    {
     "name": "stdout",
     "output_type": "stream",
     "text": [
      "Processing d30 f5..\n",
      "fitted model R2 train: 0.975652146609249\n"
     ]
    },
    {
     "name": "stderr",
     "output_type": "stream",
     "text": [
      "No data for colormapping provided via 'c'. Parameters 'vmin', 'vmax' will be ignored\n",
      "The figure layout has changed to tight\n"
     ]
    },
    {
     "name": "stdout",
     "output_type": "stream",
     "text": [
      "Processing d30 f6..\n",
      "fitted model R2 train: 0.9908144699548336\n"
     ]
    },
    {
     "name": "stderr",
     "output_type": "stream",
     "text": [
      "No data for colormapping provided via 'c'. Parameters 'vmin', 'vmax' will be ignored\n",
      "The figure layout has changed to tight\n"
     ]
    },
    {
     "name": "stdout",
     "output_type": "stream",
     "text": [
      "Processing d30 f7..\n",
      "fitted model R2 train: 0.9931995255326207\n"
     ]
    },
    {
     "name": "stderr",
     "output_type": "stream",
     "text": [
      "No data for colormapping provided via 'c'. Parameters 'vmin', 'vmax' will be ignored\n",
      "The figure layout has changed to tight\n"
     ]
    },
    {
     "name": "stdout",
     "output_type": "stream",
     "text": [
      "Processing d30 f8..\n",
      "fitted model R2 train: 0.9818465607270235\n"
     ]
    },
    {
     "name": "stderr",
     "output_type": "stream",
     "text": [
      "No data for colormapping provided via 'c'. Parameters 'vmin', 'vmax' will be ignored\n",
      "The figure layout has changed to tight\n"
     ]
    },
    {
     "name": "stdout",
     "output_type": "stream",
     "text": [
      "Processing d30 f9..\n",
      "fitted model R2 train: 0.9834611989957229\n"
     ]
    },
    {
     "name": "stderr",
     "output_type": "stream",
     "text": [
      "No data for colormapping provided via 'c'. Parameters 'vmin', 'vmax' will be ignored\n",
      "The figure layout has changed to tight\n"
     ]
    },
    {
     "name": "stdout",
     "output_type": "stream",
     "text": [
      "Processing d30 f10..\n",
      "fitted model R2 train: 0.9917473342968234\n"
     ]
    },
    {
     "name": "stderr",
     "output_type": "stream",
     "text": [
      "No data for colormapping provided via 'c'. Parameters 'vmin', 'vmax' will be ignored\n",
      "The figure layout has changed to tight\n"
     ]
    },
    {
     "name": "stdout",
     "output_type": "stream",
     "text": [
      "Processing d30 f11..\n",
      "fitted model R2 train: 0.989910585700655\n"
     ]
    },
    {
     "name": "stderr",
     "output_type": "stream",
     "text": [
      "No data for colormapping provided via 'c'. Parameters 'vmin', 'vmax' will be ignored\n",
      "The figure layout has changed to tight\n"
     ]
    },
    {
     "name": "stdout",
     "output_type": "stream",
     "text": [
      "Processing d30 f12..\n",
      "fitted model R2 train: 0.961042612928353\n"
     ]
    },
    {
     "name": "stderr",
     "output_type": "stream",
     "text": [
      "No data for colormapping provided via 'c'. Parameters 'vmin', 'vmax' will be ignored\n",
      "The figure layout has changed to tight\n"
     ]
    },
    {
     "name": "stdout",
     "output_type": "stream",
     "text": [
      "Processing d30 f13..\n",
      "fitted model R2 train: 0.9703826857344346\n"
     ]
    },
    {
     "name": "stderr",
     "output_type": "stream",
     "text": [
      "No data for colormapping provided via 'c'. Parameters 'vmin', 'vmax' will be ignored\n",
      "The figure layout has changed to tight\n"
     ]
    },
    {
     "name": "stdout",
     "output_type": "stream",
     "text": [
      "Processing d30 f14..\n",
      "fitted model R2 train: 0.9982572057760714\n"
     ]
    },
    {
     "name": "stderr",
     "output_type": "stream",
     "text": [
      "No data for colormapping provided via 'c'. Parameters 'vmin', 'vmax' will be ignored\n",
      "The figure layout has changed to tight\n"
     ]
    },
    {
     "name": "stdout",
     "output_type": "stream",
     "text": [
      "Processing d30 f15..\n",
      "fitted model R2 train: 0.9835343343335528\n"
     ]
    },
    {
     "name": "stderr",
     "output_type": "stream",
     "text": [
      "No data for colormapping provided via 'c'. Parameters 'vmin', 'vmax' will be ignored\n",
      "The figure layout has changed to tight\n"
     ]
    },
    {
     "name": "stdout",
     "output_type": "stream",
     "text": [
      "Processing d30 f16..\n",
      "fitted model R2 train: 0.9994768377275586\n"
     ]
    },
    {
     "name": "stderr",
     "output_type": "stream",
     "text": [
      "No data for colormapping provided via 'c'. Parameters 'vmin', 'vmax' will be ignored\n",
      "The figure layout has changed to tight\n"
     ]
    },
    {
     "name": "stdout",
     "output_type": "stream",
     "text": [
      "Processing d30 f17..\n",
      "fitted model R2 train: 0.9989124452153386\n"
     ]
    },
    {
     "name": "stderr",
     "output_type": "stream",
     "text": [
      "No data for colormapping provided via 'c'. Parameters 'vmin', 'vmax' will be ignored\n",
      "The figure layout has changed to tight\n"
     ]
    },
    {
     "name": "stdout",
     "output_type": "stream",
     "text": [
      "Processing d30 f18..\n",
      "fitted model R2 train: 0.9971528604807944\n"
     ]
    },
    {
     "name": "stderr",
     "output_type": "stream",
     "text": [
      "No data for colormapping provided via 'c'. Parameters 'vmin', 'vmax' will be ignored\n",
      "The figure layout has changed to tight\n"
     ]
    },
    {
     "name": "stdout",
     "output_type": "stream",
     "text": [
      "Processing d30 f19..\n",
      "fitted model R2 train: 0.9997842934688845\n"
     ]
    },
    {
     "name": "stderr",
     "output_type": "stream",
     "text": [
      "No data for colormapping provided via 'c'. Parameters 'vmin', 'vmax' will be ignored\n",
      "The figure layout has changed to tight\n"
     ]
    },
    {
     "name": "stdout",
     "output_type": "stream",
     "text": [
      "Processing d30 f20..\n",
      "fitted model R2 train: 0.9879894457514798\n"
     ]
    },
    {
     "name": "stderr",
     "output_type": "stream",
     "text": [
      "No data for colormapping provided via 'c'. Parameters 'vmin', 'vmax' will be ignored\n",
      "The figure layout has changed to tight\n"
     ]
    },
    {
     "name": "stdout",
     "output_type": "stream",
     "text": [
      "Processing d30 f21..\n",
      "fitted model R2 train: 0.9968599611719434\n"
     ]
    },
    {
     "name": "stderr",
     "output_type": "stream",
     "text": [
      "No data for colormapping provided via 'c'. Parameters 'vmin', 'vmax' will be ignored\n",
      "The figure layout has changed to tight\n"
     ]
    },
    {
     "name": "stdout",
     "output_type": "stream",
     "text": [
      "Processing d30 f22..\n",
      "fitted model R2 train: 0.9992180736688391\n"
     ]
    },
    {
     "name": "stderr",
     "output_type": "stream",
     "text": [
      "No data for colormapping provided via 'c'. Parameters 'vmin', 'vmax' will be ignored\n",
      "The figure layout has changed to tight\n"
     ]
    },
    {
     "name": "stdout",
     "output_type": "stream",
     "text": [
      "Processing d30 f23..\n",
      "fitted model R2 train: 0.9999994875895766\n"
     ]
    },
    {
     "name": "stderr",
     "output_type": "stream",
     "text": [
      "No data for colormapping provided via 'c'. Parameters 'vmin', 'vmax' will be ignored\n",
      "The figure layout has changed to tight\n"
     ]
    },
    {
     "name": "stdout",
     "output_type": "stream",
     "text": [
      "Processing d30 f24..\n",
      "fitted model R2 train: 0.9819562263053593\n"
     ]
    },
    {
     "name": "stderr",
     "output_type": "stream",
     "text": [
      "No data for colormapping provided via 'c'. Parameters 'vmin', 'vmax' will be ignored\n",
      "The figure layout has changed to tight\n"
     ]
    },
    {
     "data": {
      "text/plain": [
       "<Figure size 800x630 with 0 Axes>"
      ]
     },
     "metadata": {},
     "output_type": "display_data"
    }
   ],
   "source": [
    "de_explainer.to_latex_report(filename=\"../output/mod_de_new\", img_dir=\"../output/de_img_new/\")"
   ]
  },
  {
   "cell_type": "code",
   "execution_count": null,
   "metadata": {},
   "outputs": [
    {
     "name": "stdout",
     "output_type": "stream",
     "text": [
      "mutation_base\n",
      "['target', 'best', 'rand']\n",
      "Categories (3, object): ['best', 'rand', 'target']\n",
      "[2 0 1]\n",
      "mutation_reference\n",
      "['pbest', 'rand', 'nan', 'best']\n",
      "Categories (4, object): ['best', 'nan', 'pbest', 'rand']\n",
      "[2 3 1 0]\n",
      "crossover\n",
      "['exp', 'bin']\n",
      "Categories (2, object): ['bin', 'exp']\n",
      "[1 0]\n",
      "adaptation_method\n",
      "['nan', 'jDE', 'shade']\n",
      "Categories (3, object): ['jDE', 'nan', 'shade']\n",
      "[1 0 2]\n",
      "lambda_\n",
      "[8, 6, 10, 60, 150, 300]\n",
      "Categories (6, int64): [6, 8, 10, 60, 150, 300]\n",
      "[1 0 2 3 4 5]\n"
     ]
    }
   ],
   "source": [
    "categorical_columns = de_explainer.df.dtypes[de_explainer.df.dtypes == 'object'].index.to_list()\n",
    "categorical_columns\n",
    "\n",
    "df = de_explainer.df\n",
    "for cat in categorical_columns:\n",
    "    print(cat)\n",
    "    df[cat] = df[cat].astype('category')\n",
    "    print(df[cat].unique())\n",
    "    print(df[cat].cat.codes.unique())"
   ]
  },
  {
   "cell_type": "code",
   "execution_count": 8,
   "metadata": {},
   "outputs": [],
   "source": [
    "import scipy.stats as stats\n",
    "import ioh\n",
    "def intersection(lst1, lst2):\n",
    "    lst3 = [value for value in lst1 if value in lst2]\n",
    "    return lst3\n",
    "def compare(alg1, alg2, normalize=True):\n",
    "    #assuming both alg1 and alg2 are explainer objects\n",
    "    if not isinstance(alg1,explainer):\n",
    "        raise \"instance alg1 should be an explainer object\"\n",
    "    df1 = alg1.df\n",
    "    df2 = alg2.df\n",
    "\n",
    "    comparison_stats = {}\n",
    "        \n",
    "    for dim in intersection(alg1.dims, alg2.dims):\n",
    "        dim_df1 = df1[df1['dim'] == dim]\n",
    "        dim_df2 = df2[df2['dim'] == dim]\n",
    "        stat_index = f\"d={dim}\"\n",
    "\n",
    "        comparison_stats[stat_index] = pd.DataFrame(columns=[\"Function\", \n",
    "            f\"single-best {alg1.algname}\", \n",
    "            f\"single-best {alg2.algname}\", \n",
    "            f\"avg-best {alg1.algname}\", \n",
    "            f\"avg-best {alg2.algname}\", \n",
    "            f\"{alg1.algname}\", \n",
    "            f\"{alg2.algname}\"])\n",
    "\n",
    "        #split df per function\n",
    "        #get avg best config\n",
    "        _, df_best_mean1 = alg1._get_average_best(dim_df1)\n",
    "        _, df_best_mean2 = alg2._get_average_best(dim_df2)\n",
    "\n",
    "        for fid in intersection(alg1.fids, alg2.fids):\n",
    "            func = ioh.get_problem(fid, dimension=dim, instance=1)\n",
    "            fid_df1 = dim_df1[dim_df1['fid'] == fid]\n",
    "            fid_df2 = dim_df2[dim_df2['fid'] == fid]\n",
    "\n",
    "            _, df_single_best1 = alg1.get_single_best(fid, dim)\n",
    "            _, df_single_best2 = alg2.get_single_best(fid, dim)\n",
    "            \n",
    "            # Define the new row to be added\n",
    "            avg_best_avg1 = df_best_mean1[df_best_mean1['fid'] == fid]['auc'].mean()\n",
    "            avg_best_var1 = df_best_mean1[df_best_mean1['fid'] == fid]['auc'].std()\n",
    "\n",
    "            avg_best_avg2 = df_best_mean2[df_best_mean2['fid'] == fid]['auc'].mean()\n",
    "            avg_best_var2 = df_best_mean2[df_best_mean2['fid'] == fid]['auc'].std()\n",
    "\n",
    "            avg_avg1 = fid_df1['auc'].mean()\n",
    "            avg_var1 = fid_df1['auc'].std()\n",
    "\n",
    "            avg_avg2 = fid_df2['auc'].mean()\n",
    "            avg_var2 = fid_df2['auc'].std()\n",
    "\n",
    "            avg_single1 = df_single_best1['auc'].mean()\n",
    "            var_single1 = df_single_best1['auc'].std()\n",
    "\n",
    "            avg_single2 = df_single_best2['auc'].mean()\n",
    "            var_single2 = df_single_best2['auc'].std()\n",
    "            if (normalize):\n",
    "                avg_single1 = avg_single1 / alg1.budget\n",
    "                var_single1 = var_single1 / alg1.budget\n",
    "                avg_best_avg1 = avg_best_avg1 / alg1.budget\n",
    "                avg_best_var1 = avg_best_var1 / alg1.budget\n",
    "                avg_avg1 = avg_avg1 / alg1.budget\n",
    "                avg_var1 = avg_var1 / alg1.budget\n",
    "\n",
    "                avg_single2 = avg_single2 / alg2.budget\n",
    "                var_single2 = var_single2 / alg2.budget\n",
    "                avg_best_avg2 = avg_best_avg2 / alg2.budget\n",
    "                avg_best_var2 = avg_best_var2 / alg2.budget\n",
    "                avg_avg2 = avg_avg2 / alg2.budget\n",
    "                avg_var2 = avg_var2 / alg2.budget\n",
    "\n",
    "\n",
    "            single_best1 = f\"{avg_single1:.2f} ({var_single1:.2f})\"\n",
    "            single_best2 = f\"{avg_single2:.2f} ({var_single2:.2f})\"\n",
    "\n",
    "            avg_best1 = f\"{avg_best_avg1:.2f} ({avg_best_var1:.2f})\"\n",
    "            avg_best2 =f\"{avg_best_avg2:.2f} ({avg_best_var2:.2f})\"\n",
    "\n",
    "            avg1 = f\"{avg_avg1:.2f} ({avg_var1:.2f})\"\n",
    "            avg2 = f\"{avg_avg2:.2f} ({avg_var2:.2f})\"\n",
    "\n",
    "            #single best significance\n",
    "            single_sig = False\n",
    "            avg_sig = False\n",
    "            res = stats.ttest_ind(df_single_best1['auc'].values, df_single_best2['auc'].values)\n",
    "\n",
    "            if res.pvalue < 0.05:\n",
    "                single_sig = True\n",
    "                if (avg_single1 > avg_single2):\n",
    "                    single_best1 = \"\\\\textbf{\"+single_best1+\"}\"\n",
    "                else:\n",
    "                    single_best2 = \"\\\\textbf{\"+single_best2+\"}\"\n",
    "            \n",
    "            #avg best significance\n",
    "            res = stats.ttest_ind(fid_df1['auc'].values, fid_df2['auc'].values)\n",
    "            if res.pvalue < 0.05:\n",
    "                avg_sig = True\n",
    "                if (avg_best1 > avg_best2):\n",
    "                    avg_best1 = \"\\\\textbf{\"+avg_best1+\"}\"\n",
    "                else:\n",
    "                    avg_best2 = \"\\\\textbf{\"+avg_best2+\"}\"\n",
    "\n",
    "            #avg significance\n",
    "            res = stats.ttest_ind(dim_df1['auc'].values, dim_df2['auc'].values)\n",
    "            if res.pvalue < 0.05:\n",
    "                avg_sig = True\n",
    "                if (avg1 > avg2):\n",
    "                    avg1 = \"\\\\textbf{\"+avg1+\"}\"\n",
    "                else:\n",
    "                    avg2 = \"\\\\textbf{\"+avg2+\"}\"\n",
    "\n",
    "\n",
    "            new_row = {\"Function\": f\"f{fid} {func.meta_data.name}\", \n",
    "                    f\"single-best {alg1.algname}\": single_best1, \n",
    "                    f\"single-best {alg2.algname}\": single_best2, \n",
    "                    f\"avg-best {alg1.algname}\": avg_best1, \n",
    "                    f\"avg-best {alg2.algname}\": avg_best2, \n",
    "                    f\"{alg1.algname}\": avg1, \n",
    "                    f\"{alg2.algname}\": avg2\n",
    "                }\n",
    "            \n",
    "            # Use the loc method to add the new row to the DataFrame\n",
    "            comparison_stats[stat_index].loc[len(comparison_stats[stat_index])] = new_row\n",
    "            #check if the single best is significantly better than the avg best\n",
    "            \n",
    "    return comparison_stats"
   ]
  },
  {
   "cell_type": "code",
   "execution_count": 9,
   "metadata": {},
   "outputs": [
    {
     "name": "stdout",
     "output_type": "stream",
     "text": [
      "Configuration space object:\n",
      "  Hyperparameters:\n",
      "    base_sampler, Type: Categorical, Choices: {sobol, gaussian, halton}, Default: sobol\n",
      "    elitist, Type: Categorical, Choices: {True, False}, Default: True\n",
      "    local_restart, Type: Categorical, Choices: {nan, IPOP, BIPOP}, Default: nan\n",
      "    mirrored, Type: Categorical, Choices: {mirrored pairwise, nan, mirrored}, Default: mirrored pairwise\n",
      "    step_size_adaptation, Type: Categorical, Choices: {csa, psr}, Default: csa\n",
      "    weights_option, Type: Categorical, Choices: {default, equal, 1/2^lambda}, Default: default\n",
      "\n"
     ]
    },
    {
     "name": "stderr",
     "output_type": "stream",
     "text": [
      "Precision loss occurred in moment calculation due to catastrophic cancellation. This occurs when the data are nearly identical. Results may be unreliable.\n",
      "Precision loss occurred in moment calculation due to catastrophic cancellation. This occurs when the data are nearly identical. Results may be unreliable.\n"
     ]
    }
   ],
   "source": [
    "#compare de with cma\n",
    "data_file = \"cma_final.pkl\"\n",
    "features = ['elitist', 'mirrored', 'base_sampler', 'weights_option', 'local_restart', 'step_size_adaptation', 'lambda_', 'mu']\n",
    "df = pd.read_pickle(data_file)\n",
    "\n",
    "\n",
    "config_dict = {}\n",
    "for f in features:\n",
    "    config_dict[f] = list(map(str, df[f].unique()))\n",
    "\n",
    "config_dict['elitist'] = [False, True]\n",
    "config_dict['active'] = [False, True]\n",
    "\n",
    "cs = ConfigurationSpace(config_dict)\n",
    "\n",
    "cmaes_explainer = explainer(None, \n",
    "                 cs , \n",
    "                 algname=\"mod-CMA\",\n",
    "                 dims = [5,30],#, 10, 20, 40 \n",
    "                 fids = np.arange(1,25), #,5\n",
    "                 iids = df['iid'].unique(), #20 \n",
    "                 reps = len( df['seed'].unique()), \n",
    "                 sampling_method = \"grid\",  #or random\n",
    "                 grid_steps_dict = {},\n",
    "                 sample_size = None,  #only used with random method\n",
    "                 budget = 10000, #10000\n",
    "                 seed = 1,\n",
    "                 verbose = True)\n",
    "\n",
    "cmaes_explainer.load_results(data_file)\n",
    "\n",
    "dffinal = compare(de_explainer, cmaes_explainer)\n",
    "\n",
    "with open(f'../output/compare-new.tex', \"w\") as fh:\n",
    "    for dim in ['d=5', 'd=30']:\n",
    "        dffinal[dim].to_latex(buf=fh, index=False, \n",
    "                    multicolumn_format = \"c\", \n",
    "                    float_format=\"%.2f\",\n",
    "                    caption = f\"Performance comparison of Modular CMA and Modular DE with {dim}. Boldface indicates a significant improvement either between single-best configurations, average best configurations or all configurations.\")"
   ]
  },
  {
   "cell_type": "code",
   "execution_count": 15,
   "metadata": {},
   "outputs": [
    {
     "name": "stdout",
     "output_type": "stream",
     "text": [
      "Configuration space object:\n",
      "  Hyperparameters:\n",
      "    base_sampler, Type: Categorical, Choices: {sobol, gaussian, halton}, Default: sobol\n",
      "    elitist, Type: Categorical, Choices: {True, False}, Default: True\n",
      "    local_restart, Type: Categorical, Choices: {nan, IPOP, BIPOP}, Default: nan\n",
      "    mirrored, Type: Categorical, Choices: {mirrored pairwise, nan, mirrored}, Default: mirrored pairwise\n",
      "    step_size_adaptation, Type: Categorical, Choices: {csa, psr}, Default: csa\n",
      "    weights_option, Type: Categorical, Choices: {default, equal, 1/2^lambda}, Default: default\n",
      "\n",
      "(4, 24, 24)\n",
      "(24, 24)\n"
     ]
    },
    {
     "name": "stderr",
     "output_type": "stream",
     "text": [
      "The figure layout has changed to tight\n",
      "The figure layout has changed to tight\n"
     ]
    },
    {
     "data": {
      "text/plain": [
       "<Figure size 1000x1000 with 0 Axes>"
      ]
     },
     "metadata": {},
     "output_type": "display_data"
    }
   ],
   "source": [
    "import seaborn as sns\n",
    "import matplotlib.pyplot as plt\n",
    "\n",
    "\n",
    "#also load cma\n",
    "data_file = \"cma_es.pkl\"\n",
    "features2 = ['elitist', 'mirrored', 'base_sampler', 'weights_option', 'local_restart', 'step_size_adaptation']\n",
    "df_temp = pd.read_pickle(data_file)\n",
    "\n",
    "\n",
    "\n",
    "cs = ConfigurationSpace({\n",
    "    \"elitist\": list(map(str, df_temp['elitist'].unique())), \n",
    "    \"mirrored\" : list(map(str, df_temp['mirrored'].unique())), \n",
    "    \"base_sampler\" : list(map(str, df_temp['base_sampler'].unique())), \n",
    "    \"weights_option\" : list(map(str, df_temp['weights_option'].unique())), \n",
    "    \"local_restart\" : list(map(str, df_temp['local_restart'].unique())), \n",
    "    \"step_size_adaptation\" : list(map(str, df_temp['step_size_adaptation'].unique()))\n",
    "})\n",
    "\n",
    "print(cs)\n",
    "cmaes_explainer = explainer(None, \n",
    "                 cs , \n",
    "                 algname=\"mod-CMA\",\n",
    "                 dims = [5,30],#, 10, 20, 40 \n",
    "                 fids = np.arange(1,25), #,5\n",
    "                 iids = len( df_temp['iid'].unique()), #20 \n",
    "                 reps = len( df_temp['seed'].unique()), \n",
    "                 sampling_method = \"grid\",  #or random\n",
    "                 grid_steps_dict = {},\n",
    "                 sample_size = None,  #only used with random method\n",
    "                 budget = 10000, #10000\n",
    "                 seed = 1,\n",
    "                 verbose = True)\n",
    "\n",
    "\n",
    "cmaes_explainer.load_results(data_file)\n",
    "\n",
    "all_cors = []\n",
    "\n",
    "df = de_explainer.df\n",
    "cma_es_df = cmaes_explainer.df\n",
    "for dim in de_explainer.dims:\n",
    "    fid_auc_matrix = []\n",
    "    fid_auc_matrix_cma = []\n",
    "    for fid in de_explainer.fids:\n",
    "        df_dim_fid = df[(df['dim']==dim) & (df['fid'] == fid)]\n",
    "\n",
    "        cma_es_df_fid  = cma_es_df[(cma_es_df['dim']==dim) & (cma_es_df['fid'] == fid)]\n",
    "        \n",
    "        fid_auc_matrix.append(df_dim_fid.groupby(features)['auc'].mean())\n",
    "        fid_auc_matrix_cma.append(cma_es_df_fid.groupby(features2)['auc'].mean())\n",
    "\n",
    "    fid_auc_matrix = np.array(fid_auc_matrix).T\n",
    "    fid_auc_matrix_cma = np.array(fid_auc_matrix_cma).T\n",
    "\n",
    "    df_matrix = pd.DataFrame(fid_auc_matrix, columns=[f\"$f_{{{i}}}$\" for i in np.arange(1,25)])\n",
    "    corr = df_matrix.corr()\n",
    "    all_cors.append(corr)\n",
    "\n",
    "    df_matrix2 = pd.DataFrame(fid_auc_matrix_cma, columns=[f\"$f_{{{i}}}$\" for i in np.arange(1,25)])\n",
    "    corr2 = df_matrix2.corr()\n",
    "    all_cors.append(corr2)\n",
    "\n",
    "\n",
    "    if False:\n",
    "        g = sns.clustermap(corr, \n",
    "                        method = 'complete', \n",
    "                        cmap   = 'viridis', \n",
    "                        annot  = True, \n",
    "                        annot_kws = {'size': 8})\n",
    "        plt.tight_layout()\n",
    "        plt.savefig(f\"../output/de-clustermap-{dim}d.pdf\")\n",
    "        plt.clf()\n",
    "\n",
    "        g = sns.heatmap(corr, \n",
    "                        annot  = False,\n",
    "                        cmap=\"viridis\")\n",
    "        plt.tight_layout()\n",
    "        plt.savefig(f\"../output/de-heatmap-{dim}d.pdf\")\n",
    "        plt.clf()\n",
    "\n",
    "all_cors = np.array(all_cors)\n",
    "\n",
    "print(all_cors.shape)\n",
    "min_all_cors = np.min(all_cors, axis=0)\n",
    "print(min_all_cors.shape)\n",
    "\n",
    "alldf = pd.DataFrame(min_all_cors, columns=[f\"$f_{{{i}}}$\" for i in np.arange(1,25)])\n",
    "\n",
    "g = sns.clustermap(alldf, \n",
    "                method = 'complete', \n",
    "                cmap   = 'viridis', \n",
    "                annot  = True, \n",
    "                annot_kws = {'size': 8})\n",
    "plt.tight_layout()\n",
    "plt.savefig(f\"../output/all-clustermap.pdf\")\n",
    "plt.clf()\n",
    "plt.clf()\n",
    "g = sns.heatmap(alldf, \n",
    "                annot  = False,\n",
    "                cmap=\"viridis\")\n",
    "plt.tight_layout()\n",
    "plt.savefig(f\"../output/min-cor-all.pdf\")\n",
    "plt.clf()"
   ]
  }
 ],
 "metadata": {
  "kernelspec": {
   "display_name": "iohenv",
   "language": "python",
   "name": "iohenv"
  },
  "language_info": {
   "codemirror_mode": {
    "name": "ipython",
    "version": 3
   },
   "file_extension": ".py",
   "mimetype": "text/x-python",
   "name": "python",
   "nbconvert_exporter": "python",
   "pygments_lexer": "ipython3",
   "version": "3.8.10"
  },
  "orig_nbformat": 4
 },
 "nbformat": 4,
 "nbformat_minor": 2
}
